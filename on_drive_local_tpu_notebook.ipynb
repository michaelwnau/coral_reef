{
  "nbformat": 4,
  "nbformat_minor": 0,
  "metadata": {
    "colab": {
      "provenance": [],
      "authorship_tag": "ABX9TyNn3gUfyH7SUdzFbDTM7JKF",
      "include_colab_link": true
    },
    "kernelspec": {
      "name": "python3",
      "display_name": "Python 3"
    },
    "language_info": {
      "name": "python"
    }
  },
  "cells": [
    {
      "cell_type": "markdown",
      "metadata": {
        "id": "view-in-github",
        "colab_type": "text"
      },
      "source": [
        "<a href=\"https://colab.research.google.com/github/michaelwnau/coral_reef/blob/main/on_drive_local_tpu_notebook.ipynb\" target=\"_parent\"><img src=\"https://colab.research.google.com/assets/colab-badge.svg\" alt=\"Open In Colab\"/></a>"
      ]
    },
    {
      "cell_type": "markdown",
      "source": [
        "Notebook + TPU. Concept: a Jupyter Notebook that utilizes a local Google Coral TPU device. No cloud, no VM, lowest cost after initial investment, able to run in a edge TPU scenario."
      ],
      "metadata": {
        "id": "fvr4yBVRRS8l"
      }
    },
    {
      "cell_type": "code",
      "execution_count": null,
      "metadata": {
        "id": "RnHLlqFPPj44"
      },
      "outputs": [],
      "source": [
        "!pip install jupyterlab\n",
        "!pip install pycoral\n",
        "!pip install --upgrade nbformat nbconvert"
      ]
    },
    {
      "cell_type": "markdown",
      "source": [
        "Dependencies to run this notebook can be downloaded here: https://coral.ai/docs/notes/build-coral/#required-components"
      ],
      "metadata": {
        "id": "vYdleLbLQtNI"
      }
    },
    {
      "cell_type": "code",
      "source": [
        "from jupyter_core.command import main as jupyter\n",
        "import os\n",
        "from pycoral.adapters import classify, common\n",
        "from pycoral.utils.edgetpu import make_interpreter"
      ],
      "metadata": {
        "colab": {
          "base_uri": "https://localhost:8080/",
          "height": 357
        },
        "id": "TDY6J1PdPoDk",
        "outputId": "dcb9bf45-8eae-46e7-a1a0-4073aeaeddc6"
      },
      "execution_count": null,
      "outputs": [
        {
          "output_type": "error",
          "ename": "ModuleNotFoundError",
          "evalue": "ignored",
          "traceback": [
            "\u001b[0;31m---------------------------------------------------------------------------\u001b[0m",
            "\u001b[0;31mModuleNotFoundError\u001b[0m                       Traceback (most recent call last)",
            "\u001b[0;32m<ipython-input-8-0e3a61f5aa70>\u001b[0m in \u001b[0;36m<cell line: 3>\u001b[0;34m()\u001b[0m\n\u001b[1;32m      1\u001b[0m \u001b[0;32mfrom\u001b[0m \u001b[0mjupyter_core\u001b[0m\u001b[0;34m.\u001b[0m\u001b[0mcommand\u001b[0m \u001b[0;32mimport\u001b[0m \u001b[0mmain\u001b[0m \u001b[0;32mas\u001b[0m \u001b[0mjupyter\u001b[0m\u001b[0;34m\u001b[0m\u001b[0;34m\u001b[0m\u001b[0m\n\u001b[1;32m      2\u001b[0m \u001b[0;32mimport\u001b[0m \u001b[0mos\u001b[0m\u001b[0;34m\u001b[0m\u001b[0;34m\u001b[0m\u001b[0m\n\u001b[0;32m----> 3\u001b[0;31m \u001b[0;32mfrom\u001b[0m \u001b[0mpycoral\u001b[0m\u001b[0;34m.\u001b[0m\u001b[0madapters\u001b[0m \u001b[0;32mimport\u001b[0m \u001b[0mclassify\u001b[0m\u001b[0;34m,\u001b[0m \u001b[0mcommon\u001b[0m\u001b[0;34m\u001b[0m\u001b[0;34m\u001b[0m\u001b[0m\n\u001b[0m\u001b[1;32m      4\u001b[0m \u001b[0;32mfrom\u001b[0m \u001b[0mpycoral\u001b[0m\u001b[0;34m.\u001b[0m\u001b[0mutils\u001b[0m\u001b[0;34m.\u001b[0m\u001b[0medgetpu\u001b[0m \u001b[0;32mimport\u001b[0m \u001b[0mmake_interpreter\u001b[0m\u001b[0;34m\u001b[0m\u001b[0;34m\u001b[0m\u001b[0m\n",
            "\u001b[0;31mModuleNotFoundError\u001b[0m: No module named 'pycoral.adapters'",
            "",
            "\u001b[0;31m---------------------------------------------------------------------------\u001b[0;32m\nNOTE: If your import is failing due to a missing package, you can\nmanually install dependencies using either !pip or !apt.\n\nTo view examples of installing some common dependencies, click the\n\"Open Examples\" button below.\n\u001b[0;31m---------------------------------------------------------------------------\u001b[0m\n"
          ],
          "errorDetails": {
            "actions": [
              {
                "action": "open_url",
                "actionText": "Open Examples",
                "url": "/notebooks/snippets/importing_libraries.ipynb"
              }
            ]
          }
        }
      ]
    },
    {
      "cell_type": "code",
      "source": [
        "# Set the path to the TPU device\n",
        "TPU_DEVICE_PATH = '/dev/apex_0'"
      ],
      "metadata": {
        "id": "Gmu507ZmPriV"
      },
      "execution_count": null,
      "outputs": []
    },
    {
      "cell_type": "code",
      "source": [
        "# Connect to the TPU\n",
        "interpreter = make_interpreter(TPU_DEVICE_PATH)\n",
        "interpreter.allocate_tensors()"
      ],
      "metadata": {
        "id": "zA5mBkKvPxjB"
      },
      "execution_count": null,
      "outputs": []
    },
    {
      "cell_type": "code",
      "source": [
        "# Set the Jupyter Notebook configuration options\n",
        "config_file = \"/path/to/jupyter_notebook_config.py\"\n",
        "options = f\"--NotebookApp.allow_origin='*' --NotebookApp.ip='0.0.0.0' \\\n",
        "    --NotebookApp.port=8888 --NotebookApp.notebook_dir='/content' \\\n",
        "    --NotebookApp.token='' --NotebookApp.password='' \\\n",
        "    --Session.key=''\""
      ],
      "metadata": {
        "id": "JXAGuUFkP6aH"
      },
      "execution_count": null,
      "outputs": []
    },
    {
      "cell_type": "code",
      "source": [
        "# Start the Jupyter Notebook server with TPU support\n",
        "jupyter(['notebook', '--config', config_file, options])"
      ],
      "metadata": {
        "id": "iTDpoA0cQAtn"
      },
      "execution_count": null,
      "outputs": []
    }
  ]
}