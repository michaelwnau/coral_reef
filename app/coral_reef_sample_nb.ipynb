import coral_reef_nb

# Install and set up the Coral platform with PyTorch support
coral_reef_nb.install(pytorch=True)

# Test the Edge TPU Accelerator
coral_reef_nb.test()

# Run the Coral image classification sample script using the Edge TPU Accelerator
coral_reef_nb.run_sample('classify_image.py', ['--model', 'models/mobilenet_v2_1.0_224_inat_bird_quant_edgetpu.tflite',
                                              '--labels', 'models/inat_bird_labels.txt',
                                              '--input', 'images/parrot.jpg',
                                              '--top_k', '3'])
